{
 "cells": [
  {
   "cell_type": "code",
   "execution_count": 14,
   "metadata": {},
   "outputs": [
    {
     "ename": "SyntaxError",
     "evalue": "invalid syntax (<ipython-input-14-831872385cd9>, line 8)",
     "output_type": "error",
     "traceback": [
      "\u001b[1;36m  File \u001b[1;32m\"<ipython-input-14-831872385cd9>\"\u001b[1;36m, line \u001b[1;32m8\u001b[0m\n\u001b[1;33m    gray = cv.cvtColor(img, cv.COLOR_BGR2GRAY)\u001b[0m\n\u001b[1;37m    ^\u001b[0m\n\u001b[1;31mSyntaxError\u001b[0m\u001b[1;31m:\u001b[0m invalid syntax\n"
     ]
    }
   ],
   "source": [
    "#iniciando ncodigo para deteccao de meteoros em varias pastas\n",
    "import cv2 as cv,numpy as np\n",
    "\n",
    "#abrindo a imagem\n",
    "img = cv.imread('1.jpeg')\n",
    "\n",
    "#transformar em escala de cinza\n",
    "gray = cv.cvtColor(img, cv.COLOR_BGR2GRAY)\n",
    "\n",
    "# aplicando a var blur\n",
    "blur = cv.GaussianBlur(gray, (5,5), 0)\n",
    "\n",
    "# aplicando o algoritimo canny\n",
    "canny = cv.Canny(blur, 100, 200, 3)\n",
    "\n",
    "# Save the result as 'canny.jpg'\n",
    "#cv2.imwrite(‘./canny.jpg’,canny)\n",
    "\n",
    "\n",
    "meteors = cv.HoughLinesP(canny, 1, np.pi/180, 25, minLineLength=50, maxLineGap=5)\n",
    "\n",
    "if meteors is not None:\n",
    "  print('Temos um possivel meteoro')\n",
    "else:\n",
    "  print(':( Não foi dessa vez')\n",
    "\n",
    "from matplotlib import pyplot as plt\n",
    "\n",
    "\n",
    "plt.imshow(img)\n",
    "plt.show()"
   ]
  },
  {
   "cell_type": "code",
   "execution_count": null,
   "metadata": {},
   "outputs": [],
   "source": []
  }
 ],
 "metadata": {
  "kernelspec": {
   "display_name": "Python 3",
   "language": "python",
   "name": "python3"
  },
  "language_info": {
   "codemirror_mode": {
    "name": "ipython",
    "version": 3
   },
   "file_extension": ".py",
   "mimetype": "text/x-python",
   "name": "python",
   "nbconvert_exporter": "python",
   "pygments_lexer": "ipython3",
   "version": "3.8.5"
  }
 },
 "nbformat": 4,
 "nbformat_minor": 4
}
